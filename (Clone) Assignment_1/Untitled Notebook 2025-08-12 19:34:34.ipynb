{
 "cells": [
  {
   "cell_type": "code",
   "execution_count": 0,
   "metadata": {
    "application/vnd.databricks.v1+cell": {
     "cellMetadata": {
      "byteLimit": 2048000,
      "rowLimit": 10000
     },
     "inputWidgets": {},
     "nuid": "9ee7a0ea-e608-4e60-a44d-b6418545f7aa",
     "showTitle": false,
     "tableResultSettingsMap": {},
     "title": ""
    }
   },
   "outputs": [],
   "source": [
    "from pyspark.sql import functions as F\n",
    "\n",
    "# Load datasets\n",
    "df_old = spark.table(\"default.customer_data_final_cleaned\")\n",
    "df_new = spark.table(\"default.customer_data_transformed\")\n",
    "\n",
    "# Join on customer_id\n",
    "df_compare = df_old.alias(\"old\").join(\n",
    "    df_new.alias(\"new\"),\n",
    "    on=\"customer_id\",\n",
    "    how=\"inner\"\n",
    ")\n",
    "\n",
    "# Define columns to compare\n",
    "old_cols = [\"city_cleaned\", \"annual_income_cleaned\"]\n",
    "new_cols = [\"city_cleaned\", \"annual_income_cleaned\"]  # add 'numeric_features_scaled' if it exists\n",
    "\n",
    "# Build comparison select list dynamically\n",
    "select_exprs = [F.col(\"customer_id\")]\n",
    "for old_col, new_col in zip(old_cols, new_cols):\n",
    "    if old_col in df_old.columns and new_col in df_new.columns:\n",
    "        select_exprs.append(F.col(f\"old.{old_col}\").alias(f\"{old_col} (Old)\"))\n",
    "        select_exprs.append(F.col(f\"new.{new_col}\").alias(f\"{new_col} (New)\"))\n",
    "\n",
    "# Create comparison DataFrame\n",
    "comparison_df = df_compare.select(*select_exprs)\n",
    "\n",
    "# Display nicely\n",
    "display(comparison_df.limit(10))\n"
   ]
  }
 ],
 "metadata": {
  "application/vnd.databricks.v1+notebook": {
   "computePreferences": null,
   "dashboards": [],
   "environmentMetadata": {
    "base_environment": "",
    "environment_version": "2"
   },
   "inputWidgetPreferences": null,
   "language": "python",
   "notebookMetadata": {
    "pythonIndentUnit": 4
   },
   "notebookName": "Untitled Notebook 2025-08-12 19:34:34",
   "widgets": {}
  },
  "language_info": {
   "name": "python"
  }
 },
 "nbformat": 4,
 "nbformat_minor": 0
}
