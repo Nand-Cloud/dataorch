{
 "cells": [
  {
   "cell_type": "code",
   "execution_count": 0,
   "metadata": {
    "application/vnd.databricks.v1+cell": {
     "cellMetadata": {
      "byteLimit": 2048000,
      "rowLimit": 10000
     },
     "inputWidgets": {},
     "nuid": "7305e76b-3d95-4c53-a484-67d0e59a46ff",
     "showTitle": false,
     "tableResultSettingsMap": {},
     "title": ""
    }
   },
   "outputs": [],
   "source": [
    "from pyspark.sql import functions as F\n",
    "\n",
    "# Load from cleaned table\n",
    "df = spark.table(\"customer_data_final_cleaned\")\n",
    "\n",
    "# Add income category\n",
    "df = df.withColumn(\n",
    "    \"income_category\",\n",
    "    F.when(F.col(\"annual_income_cleaned\") < 40000, \"Low\")\n",
    "     .when(F.col(\"annual_income_cleaned\") < 80000, \"Medium\")\n",
    "     .otherwise(\"High\")\n",
    ")\n",
    "\n",
    "# Add date parts\n",
    "df = df.withColumn(\"registration_date\", F.to_date(\"registration_date\", \"yyyy-MM-dd\"))\n",
    "df = df.withColumn(\"registration_year\", F.year(\"registration_date\"))\n",
    "df = df.withColumn(\"registration_month\", F.month(\"registration_date\"))\n",
    "\n",
    "# Save with schema overwrite\n",
    "df.write.format(\"delta\") \\\n",
    "    .option(\"overwriteSchema\", \"true\") \\\n",
    "    .mode(\"overwrite\") \\\n",
    "    .saveAsTable(\"customer_data_transformed\")\n",
    "\n",
    "\n",
    "display(spark.table(\"customer_data_transformed\").limit(10))\n"
   ]
  }
 ],
 "metadata": {
  "application/vnd.databricks.v1+notebook": {
   "computePreferences": null,
   "dashboards": [],
   "environmentMetadata": {
    "base_environment": "",
    "environment_version": "2"
   },
   "inputWidgetPreferences": null,
   "language": "python",
   "notebookMetadata": {
    "pythonIndentUnit": 4
   },
   "notebookName": "04_Data_Transformation_Assignment",
   "widgets": {}
  },
  "language_info": {
   "name": "python"
  }
 },
 "nbformat": 4,
 "nbformat_minor": 0
}
