{
 "cells": [
  {
   "cell_type": "code",
   "execution_count": 0,
   "metadata": {
    "application/vnd.databricks.v1+cell": {
     "cellMetadata": {
      "byteLimit": 2048000,
      "rowLimit": 10000
     },
     "inputWidgets": {},
     "nuid": "7305e76b-3d95-4c53-a484-67d0e59a46ff",
     "showTitle": false,
     "tableResultSettingsMap": {},
     "title": ""
    }
   },
   "outputs": [],
   "source": [
    "from pyspark.sql.functions import col, to_date\n",
    "from pyspark.sql.types import DoubleType\n",
    "from pyspark.ml.feature import OneHotEncoder, StringIndexer, StandardScaler, VectorAssembler\n",
    "\n",
    "# Load cleaned dataset\n",
    "df = spark.table(\"default.customer_data_final_cleaned\")\n",
    "\n",
    "print(\"✅ Loaded table: customer_data_final_cleaned\")\n",
    "df.printSchema()\n",
    "\n",
    "# --------------------------\n",
    "# 1. Standardize Date Formats\n",
    "# --------------------------\n",
    "date_columns = [\"Order_Date\", \"Signup_Date\"]  # change if needed\n",
    "for date_col in date_columns:\n",
    "    if date_col in df.columns:\n",
    "        df = df.withColumn(date_col, to_date(col(date_col), \"yyyy-MM-dd\"))\n",
    "\n",
    "# --------------------------\n",
    "# 2. Convert Categorical Variables\n",
    "# --------------------------\n",
    "categorical_columns = [\"Customer_City\", \"Product_Category\"]  # change if needed\n",
    "\n",
    "for cat_col in categorical_columns:\n",
    "    if cat_col in df.columns:\n",
    "        indexer = StringIndexer(inputCol=cat_col, outputCol=f\"{cat_col}_Index\", handleInvalid=\"keep\")\n",
    "        df = indexer.fit(df).transform(df)\n",
    "\n",
    "        encoder = OneHotEncoder(inputCols=[f\"{cat_col}_Index\"], outputCols=[f\"{cat_col}_Vec\"])\n",
    "        df = encoder.fit(df).transform(df)\n",
    "\n",
    "# --------------------------\n",
    "# 3. Normalize Numeric Columns\n",
    "# --------------------------\n",
    "numeric_columns = [\"Order_Amount\", \"Quantity\"]  # change if needed\n",
    "numeric_columns = [col_name for col_name in numeric_columns if col_name in df.columns]\n",
    "\n",
    "for num_col in numeric_columns:\n",
    "    df = df.withColumn(num_col, col(num_col).cast(DoubleType()))\n",
    "\n",
    "if len(numeric_columns) > 0:\n",
    "    assembler = VectorAssembler(inputCols=numeric_columns, outputCol=\"numeric_features\")\n",
    "    df = assembler.transform(df)\n",
    "\n",
    "    scaler = StandardScaler(inputCol=\"numeric_features\", outputCol=\"numeric_features_scaled\", withMean=True, withStd=True)\n",
    "    df = scaler.fit(df).transform(df)\n",
    "else:\n",
    "    print(\"⚠️ No numeric columns found for normalization.\")\n",
    "\n",
    "# --------------------------\n",
    "# 4. Show sample output\n",
    "# --------------------------\n",
    "df.show(5, truncate=False)\n",
    "\n",
    "# --------------------------\n",
    "# 5. Save transformed table\n",
    "# --------------------------\n",
    "df.write.format(\"delta\").mode(\"overwrite\").saveAsTable(\"default.customer_data_transformed\")\n",
    "\n",
    "print(\"✅ Transformation completed and saved as table: customer_data_transformed\")\n"
   ]
  }
 ],
 "metadata": {
  "application/vnd.databricks.v1+notebook": {
   "computePreferences": null,
   "dashboards": [],
   "environmentMetadata": {
    "base_environment": "",
    "environment_version": "2"
   },
   "inputWidgetPreferences": null,
   "language": "python",
   "notebookMetadata": {
    "pythonIndentUnit": 4
   },
   "notebookName": "(Clone) 04_Data_Transformation_Assignment",
   "widgets": {}
  },
  "language_info": {
   "name": "python"
  }
 },
 "nbformat": 4,
 "nbformat_minor": 0
}
